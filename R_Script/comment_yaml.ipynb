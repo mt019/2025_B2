{
 "cells": [
  {
   "cell_type": "code",
   "execution_count": null,
   "metadata": {
    "vscode": {
     "languageId": "r"
    }
   },
   "outputs": [],
   "source": [
    "Sys.setlocale(\"LC_CTYPE\", \"zh_TW.UTF-8\")"
   ]
  },
  {
   "cell_type": "code",
   "execution_count": null,
   "metadata": {
    "vscode": {
     "languageId": "r"
    }
   },
   "outputs": [],
   "source": [
    "# === list_all_md_rmd.R ===\n",
    "setwd(\"/Users/iw/Documents/NTU/1132/2025_B2\")\n",
    "files <- list.files(path = \".\", pattern = \"(?i)\\\\.R?md$\", recursive = TRUE, full.names = TRUE)\n",
    "\n",
    "cat(\"📄 找到以下 .md / .Rmd 檔案：\\n\\n\")\n",
    "print(files)\n",
    "cat(\"\\n✅ 總共找到 \", length(files), \" 個檔案。\\n\")"
   ]
  },
  {
   "cell_type": "code",
   "execution_count": null,
   "metadata": {
    "vscode": {
     "languageId": "r"
    }
   },
   "outputs": [],
   "source": [
    "# === comment_yaml_except_index.R ===\n",
    "comment_yaml <- function(file) {\n",
    "  if (basename(file) == \"index.Rmd\") return(invisible())\n",
    "\n",
    "  lines <- readLines(file, warn = FALSE)\n",
    "  if (length(lines) < 3 || lines[1] != \"---\") return()\n",
    "\n",
    "  end <- which(lines[-1] == \"---\")[1] + 1\n",
    "  if (!is.na(end)) {\n",
    "    message(\"💬 Commenting out YAML in: \", file)\n",
    "    # Wrap YAML in <!-- ... -->\n",
    "    commented <- c(\"<!--\", lines[1:end], \"-->\", lines[(end + 1):length(lines)])\n",
    "    writeLines(commented, file)\n",
    "  }\n",
    "}\n",
    "\n",
    "# Find all .md and .Rmd files recursively\n",
    "files <- list.files(path = \".\", pattern = \"\\\\.R?md$\", recursive = TRUE, full.names = TRUE)\n",
    "\n",
    "# Apply to all files except index.Rmd\n",
    "invisible(lapply(files, comment_yaml))"
   ]
  }
 ],
 "metadata": {
  "kernelspec": {
   "display_name": "R",
   "language": "R",
   "name": "ir"
  },
  "language_info": {
   "codemirror_mode": "r",
   "file_extension": ".r",
   "mimetype": "text/x-r-source",
   "name": "R",
   "pygments_lexer": "r",
   "version": "4.4.3"
  }
 },
 "nbformat": 4,
 "nbformat_minor": 2
}
