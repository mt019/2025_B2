{
 "cells": [
  {
   "cell_type": "code",
   "execution_count": 1,
   "metadata": {
    "vscode": {
     "languageId": "r"
    }
   },
   "outputs": [
    {
     "data": {
      "text/html": [
       "'zh_TW.UTF-8'"
      ],
      "text/latex": [
       "'zh\\_TW.UTF-8'"
      ],
      "text/markdown": [
       "'zh_TW.UTF-8'"
      ],
      "text/plain": [
       "[1] \"zh_TW.UTF-8\""
      ]
     },
     "metadata": {},
     "output_type": "display_data"
    }
   ],
   "source": [
    "# === setup_bookdown.R ===\n",
    "Sys.setlocale(\"LC_CTYPE\", \"zh_TW.UTF-8\")\n",
    "setwd(\"/Users/iw/Documents/NTU/1132/2025_B2\")\n",
    "\n",
    "# 📁 設定章節來源目錄（從當前資料夾開始遞迴找所有 .md / .Rmd）\n",
    "library(stringr)\n"
   ]
  },
  {
   "cell_type": "code",
   "execution_count": 2,
   "metadata": {
    "vscode": {
     "languageId": "r"
    }
   },
   "outputs": [
    {
     "name": "stdout",
     "output_type": "stream",
     "text": [
      "\n",
      "✅ _bookdown.yml 產生成功，共  67  個章節！\n"
     ]
    },
    {
     "name": "stderr",
     "output_type": "stream",
     "text": [
      "\n",
      "\n",
      "processing file: 2025_B2.Rmd\n",
      "\n"
     ]
    },
    {
     "name": "stdout",
     "output_type": "stream",
     "text": [
      "1/1\n"
     ]
    },
    {
     "name": "stderr",
     "output_type": "stream",
     "text": [
      "output file: 2025_B2.knit.md\n",
      "\n",
      "\n"
     ]
    },
    {
     "name": "stdout",
     "output_type": "stream",
     "text": [
      "/usr/local/bin/pandoc +RTS -K512m -RTS 2025_B2.knit.md --to html4 --from markdown+autolink_bare_uris+tex_math_single_backslash --output 2025_B2.html --lua-filter /Library/Frameworks/R.framework/Versions/4.4-arm64/Resources/library/bookdown/rmarkdown/lua/custom-environment.lua --lua-filter /Library/Frameworks/R.framework/Versions/4.4-arm64/Resources/library/rmarkdown/rmarkdown/lua/pagebreak.lua --lua-filter /Library/Frameworks/R.framework/Versions/4.4-arm64/Resources/library/rmarkdown/rmarkdown/lua/latex-div.lua --lua-filter /Library/Frameworks/R.framework/Versions/4.4-arm64/Resources/library/rmarkdown/rmarkdown/lua/table-classes.lua --lua-filter /Library/Frameworks/R.framework/Versions/4.4-arm64/Resources/library/rmarkdown/rmarkdown/lua/anchor-sections.lua --metadata-file /var/folders/kx/yl3w6mcd1g7767kzzplxnd380000gn/T//Rtmp4nIqDA/file4583193c6b14 --wrap preserve --standalone --section-divs --table-of-contents --toc-depth 3 --template /Library/Frameworks/R.framework/Versions/4.4-arm64/Resources/library/bookdown/templates/gitbook.html --highlight-style pygments --number-sections --css style.css --mathjax --include-in-header /var/folders/kx/yl3w6mcd1g7767kzzplxnd380000gn/T//Rtmp4nIqDA/rmarkdown-str4583382d1fd8.html --include-in-header the_asset/custom-header.html --include-after-body the_asset/custom_def.html \n"
     ]
    },
    {
     "name": "stderr",
     "output_type": "stream",
     "text": [
      "\n",
      "Output created: docs/index.html\n",
      "\n"
     ]
    },
    {
     "data": {
      "text/html": [
       "'/Users/iw/Documents/NTU/1132/2025_B2/docs/index.html'"
      ],
      "text/latex": [
       "'/Users/iw/Documents/NTU/1132/2025\\_B2/docs/index.html'"
      ],
      "text/markdown": [
       "'/Users/iw/Documents/NTU/1132/2025_B2/docs/index.html'"
      ],
      "text/plain": [
       "[1] \"/Users/iw/Documents/NTU/1132/2025_B2/docs/index.html\""
      ]
     },
     "metadata": {},
     "output_type": "display_data"
    }
   ],
   "source": [
    "\n",
    "\n",
    "# --- STEP 3: 建立 _bookdown.yml ---\n",
    "all_files <- list.files(\".\", pattern = \"\\\\.R?md$\", recursive = TRUE, full.names = TRUE)\n",
    "\n",
    "\n",
    "# 1. 排除開頭是 \"_\" 的檔案\n",
    "valid_files <- all_files[!grepl(\"^_\", basename(all_files))]\n",
    "\n",
    "# 2. 排除資料夾中有任何一層是以 \"_\" 開頭的檔案\n",
    "valid_files <- valid_files[!grepl(\"/_\", valid_files)]\n",
    "\n",
    "# 3. 排除 README 類型的檔案\n",
    "valid_files <- valid_files[!basename(valid_files) %in% c(\"README.md\", \"README.Rmd\")]\n",
    "\n",
    "valid_files <- sort(valid_files)\n",
    "# 將 index.Rmd 放最前面\n",
    "valid_files <- c(\"index.Rmd\", setdiff(valid_files, \"index.Rmd\"))\n",
    "\n",
    "# YAML 內容\n",
    "yaml_lines <- c(\n",
    "  'book_filename: \"2025_B2.Rmd\"',\n",
    "  'clean: [packages.bib, bookdown.bbl]',\n",
    "  'delete_merged_file: true',\n",
    "  'language:',\n",
    "  '  label:',\n",
    "  '    fig: \"圖 \"',\n",
    "  '    tab: \"表 \"',\n",
    "  '  ui:',\n",
    "  '    edit: \"編輯\"',\n",
    "  '    chapter_name: [\"第 \", \" 章\"]',\n",
    "  'output_dir: \"docs\"',\n",
    "  'rmd_subdir: true',\n",
    "  'rmd_files:',\n",
    "  paste0(\"  - \", valid_files)\n",
    ")\n",
    "\n",
    "writeLines(yaml_lines, \"_bookdown.yml\")\n",
    "cat(\"\\n✅ _bookdown.yml 產生成功，共 \", length(valid_files), \" 個章節！\\n\")\n",
    "\n",
    "# --- STEP 4: 選擇性立即渲染書籍 ---\n",
    "bookdown::render_book(\"index.Rmd\", \"bookdown::gitbook\")"
   ]
  }
 ],
 "metadata": {
  "kernelspec": {
   "display_name": "R",
   "language": "R",
   "name": "ir"
  },
  "language_info": {
   "codemirror_mode": "r",
   "file_extension": ".r",
   "mimetype": "text/x-r-source",
   "name": "R",
   "pygments_lexer": "r",
   "version": "4.4.3"
  }
 },
 "nbformat": 4,
 "nbformat_minor": 2
}
