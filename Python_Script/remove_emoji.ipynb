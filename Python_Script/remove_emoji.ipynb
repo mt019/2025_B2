{
 "cells": [
  {
   "cell_type": "code",
   "execution_count": null,
   "metadata": {},
   "outputs": [],
   "source": [
    "import os\n",
    "import re\n",
    "\n",
    "def clean_emoji_in_headings(folder_path):\n",
    "    # Markdown 標題開頭 + emoji（Unicode）+ 空格\n",
    "    pattern = re.compile(r'^(#{1,6})\\s*([\\U0001F300-\\U0001FAFF])\\s+(.*)$', re.MULTILINE)\n",
    "\n",
    "    all_files = []\n",
    "    modified_files = []\n",
    "\n",
    "    for root, dirs, files in os.walk(folder_path):\n",
    "        for file in files:\n",
    "            if file.endswith('.md'):\n",
    "                file_path = os.path.join(root, file)\n",
    "                all_files.append(file_path)\n",
    "\n",
    "                with open(file_path, 'r', encoding='utf-8') as f:\n",
    "                    content = f.read()\n",
    "\n",
    "                # 替換為「## 標題」格式，刪除 emoji 和後方空格\n",
    "                new_content = pattern.sub(lambda m: f\"{m.group(1)} {m.group(3).strip()}\", content)\n",
    "\n",
    "                if new_content != content:\n",
    "                    modified_files.append(file_path)\n",
    "                    with open(file_path, 'w', encoding='utf-8') as f:\n",
    "                        f.write(new_content)\n",
    "\n",
    "    # 印出所有處理過的檔案\n",
    "    print(\"\\n📁 遍歷過的 Markdown 檔案：\")\n",
    "    for f in all_files:\n",
    "        print(\" -\", f)\n",
    "\n",
    "    # 印出有修改的檔案\n",
    "    print(\"\\n✅ 有修改內容的檔案：\")\n",
    "    if modified_files:\n",
    "        for f in modified_files:\n",
    "            print(\" *\", f)\n",
    "    else:\n",
    "        print(\"（沒有任何檔案被修改）\")\n",
    "\n",
    "# ✅ 請將路徑改為你自己的 Markdown 資料夾\n",
    "clean_emoji_in_headings('/Users/iw/Documents/NTU/1132/2025_B2')"
   ]
  },
  {
   "cell_type": "markdown",
   "metadata": {},
   "source": []
  }
 ],
 "metadata": {
  "kernelspec": {
   "display_name": ".venv",
   "language": "python",
   "name": "python3"
  },
  "language_info": {
   "codemirror_mode": {
    "name": "ipython",
    "version": 3
   },
   "file_extension": ".py",
   "mimetype": "text/x-python",
   "name": "python",
   "nbconvert_exporter": "python",
   "pygments_lexer": "ipython3",
   "version": "3.12.4"
  }
 },
 "nbformat": 4,
 "nbformat_minor": 2
}
